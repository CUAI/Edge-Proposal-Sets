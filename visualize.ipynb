{
 "cells": [
  {
   "cell_type": "code",
   "execution_count": null,
   "metadata": {},
   "outputs": [],
   "source": [
    "from visualize import show"
   ]
  },
  {
   "cell_type": "code",
   "execution_count": null,
   "metadata": {},
   "outputs": [],
   "source": [
    "filter_methods = [ \"gcn\", \"sage\", \"simple\", \"adamic_ogb\", \"simplecos\", \"None\"]\n",
    "rank_methods = [ \"gcn\", \"sage\", \"simple\", \"adamic_ogb\", \"simplecos\"]\n",
    "dataset = \"ddi\"\n",
    "kind = \"\" \n",
    "show_std = True\n",
    "all_results = show(dataset, rank_methods, filter_methods, kind,show_std, radius = 3000, top = 5)\n"
   ]
  },
  {
   "cell_type": "code",
   "execution_count": null,
   "metadata": {},
   "outputs": [],
   "source": [
    "filter_methods = [ \"gcn\", \"sage\", \"simple\", \"adamic_ogb\", \"simplecos\", \"None\"]\n",
    "rank_methods = [ \"gcn\", \"sage\", \"simple\", \"adamic_ogb\", \"simplecos\"]\n",
    "dataset = \"ddi\"\n",
    "kind = \"_validproposal\" \n",
    "show_std = True\n",
    "all_results = show(dataset, rank_methods, filter_methods, kind,show_std, radius = 20000, top = 5)\n"
   ]
  },
  {
   "cell_type": "code",
   "execution_count": null,
   "metadata": {},
   "outputs": [],
   "source": []
  }
 ],
 "metadata": {
  "kernelspec": {
   "display_name": "graph",
   "language": "python",
   "name": "graph"
  },
  "language_info": {
   "codemirror_mode": {
    "name": "ipython",
    "version": 3
   },
   "file_extension": ".py",
   "mimetype": "text/x-python",
   "name": "python",
   "nbconvert_exporter": "python",
   "pygments_lexer": "ipython3",
   "version": "3.6.10"
  }
 },
 "nbformat": 4,
 "nbformat_minor": 2
}
